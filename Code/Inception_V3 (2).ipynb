{
  "cells": [
    {
      "cell_type": "code",
      "execution_count": 6,
      "metadata": {
        "id": "AI7JTat7vmqQ"
      },
      "outputs": [],
      "source": [
        "# INCEPTION V3 NEURAL NETWORK TO CLASSIFY IMAGES INTO ONE OF THE 10 DISTRACTIONS\n",
        "\n",
        "# The method to use and implement this model is outlined in the ReadMe file\n",
        "\n",
        "# Sources cited:\n",
        "# https://keras.io/guides/transfer_learning/\n",
        "# https://keras.io/api/applications/#usage-examples-for-image-classification-models\n",
        "# https://keras.io/api/data_loading/\n",
        "# https://medium.com/@italojs/saving-your-weights-for-each-epoch-keras-callbacks-b494d9648202\n",
        "# https://datascience.stackexchange.com/questions/104572/does-validation-split-in-tf-keras-preprocessing-image-dataset-from-directory-res\n",
        "# Code also borrowed from the solution of P-Set 2 (CAS CS 523, Deep Learning, Professor Sarah)\n",
        "\n",
        "# The dataset is located on the Google Drive, Link:\n",
        "# https://drive.google.com/drive/folders/1XQwlyOjZL0dPDbWagURrSqa1dC6rDkgW?usp=sharing\n",
        "\n",
        "# importing files and libraries\n",
        "import os\n",
        "import tensorflow as tf\n",
        "import matplotlib.pyplot as plt\n",
        "import pandas as pd\n",
        "import cv2\n",
        "import numpy as np\n",
        "import glob\n",
        "import keras\n",
        "from keras.preprocessing.image import smart_resize\n",
        "from PIL import Image\n",
        "from keras.applications.inception_v3 import InceptionV3\n",
        "from keras.preprocessing import image\n",
        "from keras.models import Model\n",
        "from keras.layers import Dense, GlobalAveragePooling2D\n",
        "from tensorflow.keras.utils import Sequence\n",
        "from keras.callbacks import ModelCheckpoint\n",
        "from keras.applications.inception_v3 import InceptionV3\n",
        "from keras.preprocessing import image\n",
        "from keras.models import Model\n",
        "from keras.layers import Dense, GlobalAveragePooling2D\n",
        "from sklearn.metrics import confusion_matrix\n",
        "from sklearn.metrics import classification_report\n",
        "from sklearn.metrics import precision_score , recall_score, f1_score\n",
        "from sklearn.metrics import top_k_accuracy_score\n"
      ]
    },
    {
      "cell_type": "code",
      "execution_count": 2,
      "metadata": {
        "colab": {
          "base_uri": "https://localhost:8080/"
        },
        "id": "ReMkTc0mUL-T",
        "outputId": "bab68c17-91a2-4ab8-d4f7-7919173bd578"
      },
      "outputs": [
        {
          "output_type": "stream",
          "name": "stdout",
          "text": [
            "Mounted at /content/drive\n"
          ]
        }
      ],
      "source": [
        "# mounting Google drive\n",
        "# the dataset is stored on the drive\n",
        "\n",
        "from google.colab import drive \n",
        "drive.mount('/content/drive',force_remount=True)\n"
      ]
    },
    {
      "cell_type": "code",
      "execution_count": null,
      "metadata": {
        "id": "jmxymENON_N1"
      },
      "outputs": [],
      "source": [
        "#folder='/content/drive/MyDrive/CS523_Deep_Learning/Data/train/c'\n",
        "\n",
        "#filelist = glob.glob(folder + '0' + '/*.jpg')\n",
        "#train_images = np.array([np.array(Image.open(fname)) for fname in filelist])\n",
        "#train_labels = np.zeros((train_images.shape[0],), dtype=int)\n",
        "\n",
        "#for i in range(1,10):\n",
        "#    folder_i = folder+str(i)\n",
        "#    filelist = glob.glob(folder_i + '/*.jpg')\n",
        "#    temp=np.array([np.array(Image.open(fname)) for fname in filelist])\n",
        "#    train_images = np.vstack((train_images, temp))\n",
        "#    train_labels = np.hstack((train_labels, np.zeros((temp.shape[0],), dtype=int) + i))\n"
      ]
    },
    {
      "cell_type": "code",
      "execution_count": 3,
      "metadata": {
        "id": "b549A--aVzi_"
      },
      "outputs": [],
      "source": [
        "#folder='/content/drive/MyDrive/CS523_Deep_Learning/Data/TestData/c'\n",
        "\n",
        "#filelist = glob.glob(folder + '0' + '/*.jpg')\n",
        "#test_images = np.array([np.array(Image.open(fname)) for fname in filelist])\n",
        "#test_labels = np.zeros((test_images.shape[0],), dtype=int)\n",
        "\n",
        "#for i in range(1,10):\n",
        "#    folder_i = folder+str(i)\n",
        "#    filelist = glob.glob(folder_i + '/*.jpg')\n",
        "#    temp=np.array([np.array(Image.open(fname)) for fname in filelist])\n",
        "#    test_images = np.vstack((test_images, temp))\n",
        "#    test_labels = np.hstack((test_labels, np.zeros((temp.shape[0],), dtype=int) + i))"
      ]
    },
    {
      "cell_type": "code",
      "execution_count": 3,
      "metadata": {
        "colab": {
          "base_uri": "https://localhost:8080/"
        },
        "id": "467bNG5nteeK",
        "outputId": "f37a4b46-7705-4bdd-c709-4a1aa3b7a9ce"
      },
      "outputs": [
        {
          "output_type": "stream",
          "name": "stdout",
          "text": [
            "Found 20405 files belonging to 10 classes.\n",
            "Using 18365 files for training.\n",
            "Found 20405 files belonging to 10 classes.\n",
            "Using 2040 files for validation.\n",
            "Found 2019 files belonging to 10 classes.\n"
          ]
        }
      ],
      "source": [
        "# Extracting training, validation and test data sets\n",
        "\n",
        "train_ds = tf.keras.utils.image_dataset_from_directory(\n",
        "    directory='/content/drive/MyDrive/CS523_Deep_Learning/Data/train',\n",
        "    labels='inferred',\n",
        "    label_mode='int',\n",
        "    batch_size=32,\n",
        "    seed=42,\n",
        "    shuffle=True,\n",
        "    validation_split=0.1,\n",
        "    subset='training',\n",
        "    image_size=(480, 640))\n",
        "\n",
        "val_ds = tf.keras.utils.image_dataset_from_directory(\n",
        "    directory='/content/drive/MyDrive/CS523_Deep_Learning/Data/train',\n",
        "    labels='inferred',\n",
        "    label_mode='int',\n",
        "    batch_size=32,\n",
        "    seed=42,\n",
        "    shuffle=True,\n",
        "    validation_split=0.1,\n",
        "    subset='validation',\n",
        "    image_size=(480, 640))\n",
        "\n",
        "test_ds = tf.keras.utils.image_dataset_from_directory(\n",
        "    directory='/content/drive/MyDrive/CS523_Deep_Learning/Data/TestData',\n",
        "    labels='inferred',\n",
        "    label_mode='int',\n",
        "    batch_size=32,\n",
        "    seed=42,\n",
        "    shuffle=False,\n",
        "    image_size=(480, 640))"
      ]
    },
    {
      "cell_type": "code",
      "execution_count": 4,
      "metadata": {
        "colab": {
          "base_uri": "https://localhost:8080/"
        },
        "id": "pX47mRF7bE2X",
        "outputId": "584d009f-c0d8-4e07-8e04-3531d0a63546"
      },
      "outputs": [
        {
          "output_type": "stream",
          "name": "stdout",
          "text": [
            "Downloading data from https://storage.googleapis.com/tensorflow/keras-applications/inception_v3/inception_v3_weights_tf_dim_ordering_tf_kernels_notop.h5\n",
            "87916544/87910968 [==============================] - 1s 0us/step\n",
            "87924736/87910968 [==============================] - 1s 0us/step\n",
            "Model: \"model\"\n",
            "_________________________________________________________________\n",
            " Layer (type)                Output Shape              Param #   \n",
            "=================================================================\n",
            " input_3 (InputLayer)        [(None, 480, 640, 3)]     0         \n",
            "                                                                 \n",
            " inception_v3 (Functional)   (None, 13, 18, 2048)      21802784  \n",
            "                                                                 \n",
            " global_average_pooling2d (G  (None, 2048)             0         \n",
            " lobalAveragePooling2D)                                          \n",
            "                                                                 \n",
            " dropout (Dropout)           (None, 2048)              0         \n",
            "                                                                 \n",
            " dense (Dense)               (None, 1024)              2098176   \n",
            "                                                                 \n",
            " dropout_1 (Dropout)         (None, 1024)              0         \n",
            "                                                                 \n",
            " dense_1 (Dense)             (None, 10)                10250     \n",
            "                                                                 \n",
            "=================================================================\n",
            "Total params: 23,911,210\n",
            "Trainable params: 2,108,426\n",
            "Non-trainable params: 21,802,784\n",
            "_________________________________________________________________\n",
            "Epoch 1/8\n"
          ]
        },
        {
          "output_type": "stream",
          "name": "stderr",
          "text": [
            "/usr/local/lib/python3.7/dist-packages/tensorflow/python/util/dispatch.py:1082: UserWarning: \"`sparse_categorical_crossentropy` received `from_logits=True`, but the `output` argument was produced by a sigmoid or softmax activation and thus does not represent logits. Was this intended?\"\n",
            "  return dispatch_target(*args, **kwargs)\n"
          ]
        },
        {
          "output_type": "stream",
          "name": "stdout",
          "text": [
            "574/574 [==============================] - 857s 1s/step - loss: 4.3847 - accuracy: 0.1155 - val_loss: 2.3005 - val_accuracy: 0.1093\n",
            "Epoch 2/8\n",
            "574/574 [==============================] - 158s 275ms/step - loss: 2.3020 - accuracy: 0.1185 - val_loss: 2.2468 - val_accuracy: 0.1500\n",
            "Epoch 3/8\n",
            "574/574 [==============================] - 158s 275ms/step - loss: 2.2992 - accuracy: 0.1155 - val_loss: 2.2999 - val_accuracy: 0.1093\n",
            "Epoch 4/8\n",
            "574/574 [==============================] - 158s 275ms/step - loss: 2.3016 - accuracy: 0.1113 - val_loss: 2.2998 - val_accuracy: 0.1093\n",
            "Epoch 5/8\n",
            "574/574 [==============================] - 158s 275ms/step - loss: 2.3002 - accuracy: 0.1140 - val_loss: 2.2996 - val_accuracy: 0.1093\n",
            "Epoch 6/8\n",
            "574/574 [==============================] - 158s 275ms/step - loss: 2.3007 - accuracy: 0.1119 - val_loss: 2.2996 - val_accuracy: 0.1093\n",
            "Epoch 7/8\n",
            "574/574 [==============================] - 158s 274ms/step - loss: 2.3030 - accuracy: 0.1107 - val_loss: 2.2996 - val_accuracy: 0.1093\n",
            "Epoch 8/8\n",
            "574/574 [==============================] - 158s 274ms/step - loss: 2.3019 - accuracy: 0.1119 - val_loss: 2.2996 - val_accuracy: 0.1093\n"
          ]
        }
      ],
      "source": [
        "# Inception V3 model with transfer learning\n",
        "\n",
        "base_model = InceptionV3(weights='imagenet', include_top=False, input_shape=(480, 640, 3))\n",
        "\n",
        "base_model.trainable = False\n",
        "inputs = keras.Input(shape=(480, 640, 3))\n",
        "\n",
        "scale_layer = keras.layers.Rescaling(scale=1 / 127.5, offset=-1)\n",
        "inputs = scale_layer(inputs)\n",
        "\n",
        "x = base_model(inputs, training=False)\n",
        "x = GlobalAveragePooling2D()(x)\n",
        "x = keras.layers.Dropout(0.2)(x) \n",
        "\n",
        "x = Dense(1024, activation='relu')(x)\n",
        "x = keras.layers.Dropout(0.2)(x) \n",
        "\n",
        "predictions = Dense(10, activation='softmax')(x)\n",
        "\n",
        "model = Model(inputs, outputs=predictions)\n",
        "\n",
        "model.compile(optimizer='adam', loss=tf.keras.losses.SparseCategoricalCrossentropy(from_logits=True), metrics=['accuracy'])\n",
        "\n",
        "model.summary()\n",
        "\n",
        "history=model.fit(train_ds, epochs=8, validation_data=val_ds)"
      ]
    },
    {
      "cell_type": "code",
      "execution_count": 5,
      "metadata": {
        "colab": {
          "base_uri": "https://localhost:8080/"
        },
        "id": "UeMJIG2bdhi3",
        "outputId": "af4be080-56f6-4099-f2a7-0e75d9de769d"
      },
      "outputs": [
        {
          "metadata": {
            "tags": null
          },
          "name": "stdout",
          "output_type": "stream",
          "text": [
            "Model: \"model\"\n",
            "_________________________________________________________________\n",
            " Layer (type)                Output Shape              Param #   \n",
            "=================================================================\n",
            " input_3 (InputLayer)        [(None, 480, 640, 3)]     0         \n",
            "                                                                 \n",
            " inception_v3 (Functional)   (None, 13, 18, 2048)      21802784  \n",
            "                                                                 \n",
            " global_average_pooling2d (G  (None, 2048)             0         \n",
            " lobalAveragePooling2D)                                          \n",
            "                                                                 \n",
            " dropout (Dropout)           (None, 2048)              0         \n",
            "                                                                 \n",
            " dense (Dense)               (None, 1024)              2098176   \n",
            "                                                                 \n",
            " dropout_1 (Dropout)         (None, 1024)              0         \n",
            "                                                                 \n",
            " dense_1 (Dense)             (None, 10)                10250     \n",
            "                                                                 \n",
            "=================================================================\n",
            "Total params: 23,911,210\n",
            "Trainable params: 23,876,778\n",
            "Non-trainable params: 34,432\n",
            "_________________________________________________________________\n"
          ]
        },
        {
          "metadata": {
            "tags": null
          },
          "name": "stderr",
          "output_type": "stream",
          "text": [
            "WARNING:tensorflow:`period` argument is deprecated. Please use `save_freq` to specify the frequency in number of batches seen.\n"
          ]
        },
        {
          "metadata": {
            "tags": null
          },
          "name": "stdout",
          "output_type": "stream",
          "text": [
            "Epoch 1/20\n"
          ]
        },
        {
          "metadata": {
            "tags": null
          },
          "name": "stderr",
          "output_type": "stream",
          "text": [
            "/usr/local/lib/python3.7/dist-packages/tensorflow/python/util/dispatch.py:1082: UserWarning: \"`sparse_categorical_crossentropy` received `from_logits=True`, but the `output` argument was produced by a sigmoid or softmax activation and thus does not represent logits. Was this intended?\"\n",
            "  return dispatch_target(*args, **kwargs)\n"
          ]
        },
        {
          "output_type": "stream",
          "name": "stdout",
          "text": [
            "574/574 [==============================] - ETA: 0s - loss: 2.3001 - accuracy: 0.1123\n",
            "Epoch 1: loss improved from inf to 2.30013, saving model to /content/drive/MyDrive/CS523_Deep_Learning\n",
            "574/574 [==============================] - 585s 999ms/step - loss: 2.3001 - accuracy: 0.1123 - val_loss: 2.2437 - val_accuracy: 0.1515\n",
            "Epoch 2/20\n",
            "574/574 [==============================] - ETA: 0s - loss: 1.9192 - accuracy: 0.2824\n",
            "Epoch 2: loss improved from 2.30013 to 1.91920, saving model to /content/drive/MyDrive/CS523_Deep_Learning\n",
            "574/574 [==============================] - 571s 993ms/step - loss: 1.9192 - accuracy: 0.2824 - val_loss: 1.3885 - val_accuracy: 0.4392\n",
            "Epoch 3/20\n",
            "574/574 [==============================] - ETA: 0s - loss: 0.8820 - accuracy: 0.6708\n",
            "Epoch 3: loss improved from 1.91920 to 0.88205, saving model to /content/drive/MyDrive/CS523_Deep_Learning\n",
            "574/574 [==============================] - 571s 994ms/step - loss: 0.8820 - accuracy: 0.6708 - val_loss: 0.2562 - val_accuracy: 0.9417\n",
            "Epoch 4/20\n",
            "574/574 [==============================] - ETA: 0s - loss: 0.3287 - accuracy: 0.8938\n",
            "Epoch 4: loss improved from 0.88205 to 0.32875, saving model to /content/drive/MyDrive/CS523_Deep_Learning\n",
            "574/574 [==============================] - 570s 993ms/step - loss: 0.3287 - accuracy: 0.8938 - val_loss: 0.1211 - val_accuracy: 0.9686\n",
            "Epoch 5/20\n",
            "574/574 [==============================] - ETA: 0s - loss: 0.1738 - accuracy: 0.9494\n",
            "Epoch 5: loss improved from 0.32875 to 0.17378, saving model to /content/drive/MyDrive/CS523_Deep_Learning\n",
            "574/574 [==============================] - 571s 994ms/step - loss: 0.1738 - accuracy: 0.9494 - val_loss: 0.1036 - val_accuracy: 0.9706\n",
            "Epoch 6/20\n",
            "574/574 [==============================] - ETA: 0s - loss: 0.1278 - accuracy: 0.9617\n",
            "Epoch 6: loss improved from 0.17378 to 0.12776, saving model to /content/drive/MyDrive/CS523_Deep_Learning\n",
            "574/574 [==============================] - 570s 993ms/step - loss: 0.1278 - accuracy: 0.9617 - val_loss: 0.0759 - val_accuracy: 0.9824\n",
            "Epoch 7/20\n",
            "574/574 [==============================] - ETA: 0s - loss: 0.0843 - accuracy: 0.9739\n",
            "Epoch 7: loss improved from 0.12776 to 0.08426, saving model to /content/drive/MyDrive/CS523_Deep_Learning\n",
            "574/574 [==============================] - 571s 994ms/step - loss: 0.0843 - accuracy: 0.9739 - val_loss: 0.0973 - val_accuracy: 0.9789\n",
            "Epoch 8/20\n",
            "574/574 [==============================] - ETA: 0s - loss: 0.0838 - accuracy: 0.9751\n",
            "Epoch 8: loss improved from 0.08426 to 0.08384, saving model to /content/drive/MyDrive/CS523_Deep_Learning\n",
            "574/574 [==============================] - 570s 993ms/step - loss: 0.0838 - accuracy: 0.9751 - val_loss: 0.0636 - val_accuracy: 0.9848\n",
            "Epoch 9/20\n",
            "574/574 [==============================] - ETA: 0s - loss: 0.0643 - accuracy: 0.9809\n",
            "Epoch 9: loss improved from 0.08384 to 0.06430, saving model to /content/drive/MyDrive/CS523_Deep_Learning\n",
            "574/574 [==============================] - 572s 995ms/step - loss: 0.0643 - accuracy: 0.9809 - val_loss: 0.0841 - val_accuracy: 0.9779\n",
            "Epoch 10/20\n",
            "574/574 [==============================] - ETA: 0s - loss: 0.0434 - accuracy: 0.9876\n",
            "Epoch 10: loss improved from 0.06430 to 0.04339, saving model to /content/drive/MyDrive/CS523_Deep_Learning\n",
            "574/574 [==============================] - 571s 994ms/step - loss: 0.0434 - accuracy: 0.9876 - val_loss: 0.0420 - val_accuracy: 0.9907\n",
            "Epoch 11/20\n",
            "574/574 [==============================] - ETA: 0s - loss: 0.0485 - accuracy: 0.9868\n",
            "Epoch 11: loss did not improve from 0.04339\n",
            "574/574 [==============================] - 529s 921ms/step - loss: 0.0485 - accuracy: 0.9868 - val_loss: 0.0478 - val_accuracy: 0.9887\n",
            "Epoch 12/20\n",
            "574/574 [==============================] - ETA: 0s - loss: 0.0557 - accuracy: 0.9846\n",
            "Epoch 12: loss did not improve from 0.04339\n",
            "574/574 [==============================] - 529s 921ms/step - loss: 0.0557 - accuracy: 0.9846 - val_loss: 0.0447 - val_accuracy: 0.9902\n",
            "Epoch 13/20\n",
            "574/574 [==============================] - ETA: 0s - loss: 0.0274 - accuracy: 0.9922\n",
            "Epoch 13: loss improved from 0.04339 to 0.02743, saving model to /content/drive/MyDrive/CS523_Deep_Learning\n",
            "574/574 [==============================] - 570s 993ms/step - loss: 0.0274 - accuracy: 0.9922 - val_loss: 0.0370 - val_accuracy: 0.9922\n",
            "Epoch 14/20\n",
            "574/574 [==============================] - ETA: 0s - loss: 0.0305 - accuracy: 0.9909\n",
            "Epoch 14: loss did not improve from 0.02743\n",
            "574/574 [==============================] - 528s 920ms/step - loss: 0.0305 - accuracy: 0.9909 - val_loss: 0.0465 - val_accuracy: 0.9877\n",
            "Epoch 15/20\n",
            "574/574 [==============================] - ETA: 0s - loss: 0.0289 - accuracy: 0.9915\n",
            "Epoch 15: loss did not improve from 0.02743\n",
            "574/574 [==============================] - 530s 922ms/step - loss: 0.0289 - accuracy: 0.9915 - val_loss: 0.0325 - val_accuracy: 0.9926\n",
            "Epoch 16/20\n",
            "574/574 [==============================] - ETA: 0s - loss: 0.0319 - accuracy: 0.9913\n",
            "Epoch 16: loss did not improve from 0.02743\n",
            "574/574 [==============================] - 530s 923ms/step - loss: 0.0319 - accuracy: 0.9913 - val_loss: 0.0433 - val_accuracy: 0.9887\n",
            "Epoch 17/20\n",
            "574/574 [==============================] - ETA: 0s - loss: 0.0159 - accuracy: 0.9958\n",
            "Epoch 17: loss improved from 0.02743 to 0.01587, saving model to /content/drive/MyDrive/CS523_Deep_Learning\n",
            "574/574 [==============================] - 570s 993ms/step - loss: 0.0159 - accuracy: 0.9958 - val_loss: 0.0234 - val_accuracy: 0.9936\n",
            "Epoch 18/20\n",
            "574/574 [==============================] - ETA: 0s - loss: 0.0245 - accuracy: 0.9928\n",
            "Epoch 18: loss did not improve from 0.01587\n",
            "574/574 [==============================] - 529s 921ms/step - loss: 0.0245 - accuracy: 0.9928 - val_loss: 0.0699 - val_accuracy: 0.9819\n",
            "Epoch 19/20\n",
            "574/574 [==============================] - ETA: 0s - loss: 0.0227 - accuracy: 0.9948\n",
            "Epoch 19: loss did not improve from 0.01587\n",
            "574/574 [==============================] - 529s 921ms/step - loss: 0.0227 - accuracy: 0.9948 - val_loss: 0.0284 - val_accuracy: 0.9951\n",
            "Epoch 20/20\n",
            "574/574 [==============================] - ETA: 0s - loss: 0.0233 - accuracy: 0.9940\n",
            "Epoch 20: loss did not improve from 0.01587\n",
            "574/574 [==============================] - 529s 920ms/step - loss: 0.0233 - accuracy: 0.9940 - val_loss: 0.0393 - val_accuracy: 0.9912\n"
          ]
        }
      ],
      "source": [
        "# Inception V3 model with fine tuning\n",
        "\n",
        "base_model.trainable = True\n",
        "model.summary()\n",
        "\n",
        "model.compile(optimizer=tf.keras.optimizers.Adam(1e-5), loss=tf.keras.losses.SparseCategoricalCrossentropy(from_logits=True), metrics=['accuracy'])\n",
        "\n",
        "checkpoint = ModelCheckpoint(\"/content/drive/MyDrive/CS523_Deep_Learning\", monitor='loss', verbose=1, save_best_only=True, mode='auto', period=1)\n",
        "\n",
        "history=model.fit(train_ds, epochs=20, validation_data=val_ds, callbacks=[checkpoint])\n"
      ]
    },
    {
      "cell_type": "code",
      "execution_count": 7,
      "metadata": {
        "id": "YsdsjwZic0F4"
      },
      "outputs": [],
      "source": [
        "model.save('/content/drive/MyDrive/CS523_Deep_Learning/Final_Net')"
      ]
    },
    {
      "cell_type": "code",
      "execution_count": 8,
      "metadata": {
        "id": "M6j3tCHqoQwG"
      },
      "outputs": [],
      "source": [
        "model=keras.models.load_model('/content/drive/MyDrive/CS523_Deep_Learning')"
      ]
    },
    {
      "cell_type": "code",
      "execution_count": 9,
      "metadata": {
        "colab": {
          "base_uri": "https://localhost:8080/",
          "height": 300
        },
        "id": "8ydMIYCRa5Hw",
        "outputId": "7d85f9ca-25ba-4e36-c0a5-8d770ace2a50"
      },
      "outputs": [
        {
          "output_type": "execute_result",
          "data": {
            "text/plain": [
              "<matplotlib.legend.Legend at 0x7efa559fe590>"
            ]
          },
          "metadata": {},
          "execution_count": 9
        },
        {
          "output_type": "display_data",
          "data": {
            "text/plain": [
              "<Figure size 432x288 with 1 Axes>"
            ],
            "image/png": "[encoded data removed]"
          },
          "metadata": {
            "needs_background": "light"
          }
        }
      ],
      "source": [
        "# plots\n",
        "\n",
        "plt.plot(history.history['accuracy'], label='accuracy')\n",
        "plt.plot(history.history['val_accuracy'], label = 'validation accuracy')\n",
        "plt.xlabel('Epoch')\n",
        "plt.ylabel('Accuracy')\n",
        "plt.ylim([0.5, 1])\n",
        "plt.legend(loc='lower right')"
      ]
    },
    {
      "cell_type": "code",
      "execution_count": 10,
      "metadata": {
        "colab": {
          "base_uri": "https://localhost:8080/"
        },
        "id": "s75qF-No8fpQ",
        "outputId": "f73cdfcd-e4a1-47c7-a7b9-2d7a2f4ad1fe"
      },
      "outputs": [
        {
          "output_type": "stream",
          "name": "stderr",
          "text": [
            "/usr/local/lib/python3.7/dist-packages/tensorflow/python/util/dispatch.py:1082: UserWarning: \"`sparse_categorical_crossentropy` received `from_logits=True`, but the `output` argument was produced by a sigmoid or softmax activation and thus does not represent logits. Was this intended?\"\n",
            "  return dispatch_target(*args, **kwargs)\n"
          ]
        },
        {
          "output_type": "stream",
          "name": "stdout",
          "text": [
            "64/64 [==============================] - 91s 1s/step - loss: 0.9287 - accuracy: 0.8128\n",
            "0.8127785921096802\n"
          ]
        }
      ],
      "source": [
        "# Test Accuracy\n",
        "\n",
        "test_loss, test_acc = model.evaluate(test_ds)\n",
        "print(test_acc)"
      ]
    },
    {
      "cell_type": "code",
      "source": [
        "# y_pred and y_true for calculating metrics\n",
        "\n",
        "y_pred_t=model.predict(test_ds)\n",
        "y_pred=np.argmax(y_pred_t, axis=1)\n",
        "\n",
        "y_true = np.concatenate([y for x, y in test_ds], axis=0)"
      ],
      "metadata": {
        "id": "rqzL8CqqucZ8"
      },
      "execution_count": 11,
      "outputs": []
    },
    {
      "cell_type": "code",
      "source": [
        "# Top 2 accuracy\n",
        "\n",
        "top_k_accuracy_score(y_true, y_pred_t, k=2)"
      ],
      "metadata": {
        "colab": {
          "base_uri": "https://localhost:8080/"
        },
        "id": "NgrcXVpHkwzg",
        "outputId": "f8a23ffe-61d9-4b0c-f7c9-1ae9ca0616b1"
      },
      "execution_count": 12,
      "outputs": [
        {
          "output_type": "execute_result",
          "data": {
            "text/plain": [
              "0.8781575037147102"
            ]
          },
          "metadata": {},
          "execution_count": 12
        }
      ]
    },
    {
      "cell_type": "code",
      "execution_count": 13,
      "metadata": {
        "colab": {
          "base_uri": "https://localhost:8080/"
        },
        "id": "sn-MsemB86Wh",
        "outputId": "d9ccab3f-3198-4d11-b3c3-13bb3aba2f9a"
      },
      "outputs": [
        {
          "output_type": "stream",
          "name": "stdout",
          "text": [
            "[[148   6   0   8   1   0   0   1   3  47]\n",
            " [  0 160   3  17   0   0   6   0  36   2]\n",
            " [  1   0 186   0   0   0   1   0  28   5]\n",
            " [  5   2   0 211   0   0   0   0   0   2]\n",
            " [  0   4   0   7 200   0   1   0  11   0]\n",
            " [  0   0   0   0   0 226   0   0   0   0]\n",
            " [  0   0   0   0   6   0 192   0   5   0]\n",
            " [ 10   4   0   0   1   1   2  99  52   0]\n",
            " [ 16   0   0   4  21   3   1   1 106   7]\n",
            " [ 42   1   0   3   0   1   0   0   0 113]]\n"
          ]
        }
      ],
      "source": [
        "# Confusion matrix\n",
        "\n",
        "cm=confusion_matrix(y_true, y_pred)\n",
        "print(cm)"
      ]
    },
    {
      "cell_type": "code",
      "execution_count": 14,
      "metadata": {
        "colab": {
          "base_uri": "https://localhost:8080/"
        },
        "id": "rtsdDoLuOWUE",
        "outputId": "d05a86f4-95be-49e5-affe-db7e410e91c6"
      },
      "outputs": [
        {
          "output_type": "stream",
          "name": "stdout",
          "text": [
            "0.812778603268945\n"
          ]
        }
      ],
      "source": [
        "# Precision\n",
        "\n",
        "print(precision_score(y_true,y_pred,average='micro'))"
      ]
    },
    {
      "cell_type": "code",
      "execution_count": 15,
      "metadata": {
        "colab": {
          "base_uri": "https://localhost:8080/"
        },
        "id": "5ElKRuiCZ_0a",
        "outputId": "b07e01a8-b4ed-4757-bb6e-7fffae6ebe85"
      },
      "outputs": [
        {
          "output_type": "stream",
          "name": "stdout",
          "text": [
            "0.812778603268945\n"
          ]
        }
      ],
      "source": [
        "# Recall\n",
        "\n",
        "print(recall_score(y_true,y_pred,average='micro'))"
      ]
    },
    {
      "cell_type": "code",
      "execution_count": 16,
      "metadata": {
        "colab": {
          "base_uri": "https://localhost:8080/"
        },
        "id": "fmCjmujcaHi4",
        "outputId": "e4950f34-3493-487f-aa55-c23e73284dfd"
      },
      "outputs": [
        {
          "output_type": "stream",
          "name": "stdout",
          "text": [
            "0.812778603268945\n"
          ]
        }
      ],
      "source": [
        "# F1 Score\n",
        "\n",
        "print(f1_score(y_true,y_pred,average='micro'))"
      ]
    },
    {
      "cell_type": "code",
      "execution_count": 17,
      "metadata": {
        "colab": {
          "base_uri": "https://localhost:8080/"
        },
        "id": "QKyQW05Qcr0c",
        "outputId": "51312371-7231-4220-b9b0-eec54c34c8d1"
      },
      "outputs": [
        {
          "output_type": "stream",
          "name": "stdout",
          "text": [
            "              precision    recall  f1-score   support\n",
            "\n",
            "           0       0.67      0.69      0.68       214\n",
            "           1       0.90      0.71      0.80       224\n",
            "           2       0.98      0.84      0.91       221\n",
            "           3       0.84      0.96      0.90       220\n",
            "           4       0.87      0.90      0.88       223\n",
            "           5       0.98      1.00      0.99       226\n",
            "           6       0.95      0.95      0.95       203\n",
            "           7       0.98      0.59      0.73       169\n",
            "           8       0.44      0.67      0.53       159\n",
            "           9       0.64      0.71      0.67       160\n",
            "\n",
            "    accuracy                           0.81      2019\n",
            "   macro avg       0.83      0.80      0.80      2019\n",
            "weighted avg       0.84      0.81      0.82      2019\n",
            "\n"
          ]
        }
      ],
      "source": [
        "# Classification Report \n",
        "\n",
        "print(classification_report(y_true, y_pred))"
      ]
    }
  ],
  "metadata": {
    "accelerator": "GPU",
    "colab": {
      "collapsed_sections": [],
      "machine_shape": "hm",
      "name": "Inception_V3.ipynb",
      "provenance": []
    },
    "gpuClass": "standard",
    "kernelspec": {
      "display_name": "Python 3",
      "name": "python3"
    },
    "language_info": {
      "name": "python"
    }
  },
  "nbformat": 4,
  "nbformat_minor": 0
}